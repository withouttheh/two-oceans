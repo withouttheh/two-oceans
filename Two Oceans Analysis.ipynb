{
 "cells": [
  {
   "cell_type": "markdown",
   "id": "85fffd9c-071f-404d-9489-083277158e38",
   "metadata": {},
   "source": [
    "# Pacing Strategies and Performance Analysis\n",
    "\n",
    "**3. Pace Analysis and Consistency:**\n",
    "   - **Subheading: \"Pace Consistency Over Time\"**\n",
    "     - Visualization: Line chart showing individual or grouped participant pace at each interval checkpoint.\n",
    "   - **Subheading: \"Pace Deviation Analysis\"**\n",
    "     - Visualization: Box plot or violin plot showing the distribution of pace deviation from the average pace.\n",
    "\n",
    "**4. Gender and Category Pacing Differences:**\n",
    "   - **Subheading: \"Gender-Based Pacing Analysis\"**\n",
    "     - Visualization: Line chart comparing pace across different intervals for male and female participants.\n",
    "   - **Subheading: \"Category-Based Pacing Analysis\"**\n",
    "     - Visualization: Line chart comparing pace across different intervals for different age groups or categories.\n",
    "\n",
    "**5. Pacing Strategies and Performance Correlation:**\n",
    "   - **Subheading: \"Pacing Strategy Analysis\"**\n",
    "     - Visualization: Scatter plot showing the relationship between pace consistency and overall performance.\n",
    "   - **Subheading: \"Pacing Variability Impact\"**\n",
    "     - Visualization: Heatmap or correlation plot showing the impact of pacing variability on final performance metrics.\n",
    "\n",
    "**6. Checkpoint Pace Comparison:**\n",
    "   - **Subheading: \"Checkpoint Pace Analysis\"**\n",
    "     - Visualization: Line chart or area chart showing the pace at each checkpoint for different groups.\n",
    "\n",
    "**7. Time Analysis by Race Segment:**\n",
    "   - **Subheading: \"Segment-wise Pace Analysis\"**\n",
    "     - Visualization: Line chart or area chart showing the pace for each segment of the race course.\n"
   ]
  },
  {
   "cell_type": "code",
   "execution_count": 228,
   "id": "b9b106a0-7d07-49c7-9a6a-93333008da08",
   "metadata": {},
   "outputs": [],
   "source": [
    "import pandas as pd\n",
    "import numpy as np\n",
    "import matplotlib.pyplot as plt\n",
    "import seaborn as sns"
   ]
  },
  {
   "cell_type": "code",
   "execution_count": 251,
   "id": "14c81b0f-324a-4032-9e94-9c2122f19131",
   "metadata": {},
   "outputs": [],
   "source": [
    "plot_colors = {'2O-Bl':'#1f2649',\n",
    "          '2O-Or':'#e87f33'}\n"
   ]
  },
  {
   "cell_type": "code",
   "execution_count": 229,
   "id": "d9946e54-9ed3-4fbc-9dc9-531cd526ef48",
   "metadata": {},
   "outputs": [],
   "source": [
    "df = pd.read_csv('data/raw/56km_results.csv')"
   ]
  },
  {
   "cell_type": "code",
   "execution_count": 230,
   "id": "7181ce57-889e-4a4f-baac-045480fbf151",
   "metadata": {
    "scrolled": true
   },
   "outputs": [
    {
     "data": {
      "text/html": [
       "<div>\n",
       "<style scoped>\n",
       "    .dataframe tbody tr th:only-of-type {\n",
       "        vertical-align: middle;\n",
       "    }\n",
       "\n",
       "    .dataframe tbody tr th {\n",
       "        vertical-align: top;\n",
       "    }\n",
       "\n",
       "    .dataframe thead th {\n",
       "        text-align: right;\n",
       "    }\n",
       "</style>\n",
       "<table border=\"1\" class=\"dataframe\">\n",
       "  <thead>\n",
       "    <tr style=\"text-align: right;\">\n",
       "      <th></th>\n",
       "      <th>Page No</th>\n",
       "      <th>Pos</th>\n",
       "      <th>Name</th>\n",
       "      <th>Time</th>\n",
       "      <th>Medal</th>\n",
       "      <th>Club</th>\n",
       "      <th>Gender</th>\n",
       "      <th>Category</th>\n",
       "      <th>Start</th>\n",
       "      <th>5km</th>\n",
       "      <th>14km</th>\n",
       "      <th>28km</th>\n",
       "      <th>42.2km</th>\n",
       "      <th>50km</th>\n",
       "    </tr>\n",
       "  </thead>\n",
       "  <tbody>\n",
       "    <tr>\n",
       "      <th>0</th>\n",
       "      <td>1</td>\n",
       "      <td>1.0</td>\n",
       "      <td>ONALENNA KHONKHOBE</td>\n",
       "      <td>03:09:30</td>\n",
       "      <td>Gold</td>\n",
       "      <td>NEDBANK DEVELOPMENT CLUB CENTRAL NORTH WEST</td>\n",
       "      <td>Male</td>\n",
       "      <td>Senior</td>\n",
       "      <td>05:15:04</td>\n",
       "      <td>00:17:38</td>\n",
       "      <td>00:48:12</td>\n",
       "      <td>01:36:39</td>\n",
       "      <td>02:25:21</td>\n",
       "      <td>02:52:00</td>\n",
       "    </tr>\n",
       "    <tr>\n",
       "      <th>1</th>\n",
       "      <td>1</td>\n",
       "      <td>2.0</td>\n",
       "      <td>LLOYD BOSMAN</td>\n",
       "      <td>03:09:58</td>\n",
       "      <td>Gold</td>\n",
       "      <td>NEDBANK RUNNING CLUB SOUTH WESTERN DISTRICTS</td>\n",
       "      <td>Male</td>\n",
       "      <td>Senior</td>\n",
       "      <td>05:15:05</td>\n",
       "      <td>00:17:39</td>\n",
       "      <td>00:48:14</td>\n",
       "      <td>01:36:41</td>\n",
       "      <td>02:25:21</td>\n",
       "      <td>02:51:48</td>\n",
       "    </tr>\n",
       "    <tr>\n",
       "      <th>2</th>\n",
       "      <td>1</td>\n",
       "      <td>3.0</td>\n",
       "      <td>GIVEMORE MUDZINGANYAMA</td>\n",
       "      <td>03:11:13</td>\n",
       "      <td>Gold</td>\n",
       "      <td>NaN</td>\n",
       "      <td>Male</td>\n",
       "      <td>Senior</td>\n",
       "      <td>05:15:04</td>\n",
       "      <td>00:17:40</td>\n",
       "      <td>00:48:16</td>\n",
       "      <td>01:36:47</td>\n",
       "      <td>02:25:22</td>\n",
       "      <td>02:52:09</td>\n",
       "    </tr>\n",
       "    <tr>\n",
       "      <th>3</th>\n",
       "      <td>1</td>\n",
       "      <td>4.0</td>\n",
       "      <td>LEBELLO MOPENYANE</td>\n",
       "      <td>03:11:21</td>\n",
       "      <td>Gold</td>\n",
       "      <td>NaN</td>\n",
       "      <td>Male</td>\n",
       "      <td>Senior</td>\n",
       "      <td>05:15:05</td>\n",
       "      <td>00:17:53</td>\n",
       "      <td>00:48:13</td>\n",
       "      <td>01:36:40</td>\n",
       "      <td>02:25:23</td>\n",
       "      <td>02:52:04</td>\n",
       "    </tr>\n",
       "    <tr>\n",
       "      <th>4</th>\n",
       "      <td>1</td>\n",
       "      <td>5.0</td>\n",
       "      <td>MPHATSO NADOLO</td>\n",
       "      <td>03:11:35</td>\n",
       "      <td>Gold</td>\n",
       "      <td>NaN</td>\n",
       "      <td>Male</td>\n",
       "      <td>Senior</td>\n",
       "      <td>05:15:02</td>\n",
       "      <td>00:17:41</td>\n",
       "      <td>00:48:16</td>\n",
       "      <td>01:36:44</td>\n",
       "      <td>02:25:19</td>\n",
       "      <td>02:52:24</td>\n",
       "    </tr>\n",
       "  </tbody>\n",
       "</table>\n",
       "</div>"
      ],
      "text/plain": [
       "   Page No  Pos                    Name      Time Medal  \\\n",
       "0        1  1.0      ONALENNA KHONKHOBE  03:09:30  Gold   \n",
       "1        1  2.0            LLOYD BOSMAN  03:09:58  Gold   \n",
       "2        1  3.0  GIVEMORE MUDZINGANYAMA  03:11:13  Gold   \n",
       "3        1  4.0       LEBELLO MOPENYANE  03:11:21  Gold   \n",
       "4        1  5.0          MPHATSO NADOLO  03:11:35  Gold   \n",
       "\n",
       "                                           Club Gender Category     Start  \\\n",
       "0   NEDBANK DEVELOPMENT CLUB CENTRAL NORTH WEST   Male   Senior  05:15:04   \n",
       "1  NEDBANK RUNNING CLUB SOUTH WESTERN DISTRICTS   Male   Senior  05:15:05   \n",
       "2                                           NaN   Male   Senior  05:15:04   \n",
       "3                                           NaN   Male   Senior  05:15:05   \n",
       "4                                           NaN   Male   Senior  05:15:02   \n",
       "\n",
       "        5km      14km      28km    42.2km      50km  \n",
       "0  00:17:38  00:48:12  01:36:39  02:25:21  02:52:00  \n",
       "1  00:17:39  00:48:14  01:36:41  02:25:21  02:51:48  \n",
       "2  00:17:40  00:48:16  01:36:47  02:25:22  02:52:09  \n",
       "3  00:17:53  00:48:13  01:36:40  02:25:23  02:52:04  \n",
       "4  00:17:41  00:48:16  01:36:44  02:25:19  02:52:24  "
      ]
     },
     "execution_count": 230,
     "metadata": {},
     "output_type": "execute_result"
    }
   ],
   "source": [
    "df.head()"
   ]
  },
  {
   "cell_type": "code",
   "execution_count": 231,
   "id": "7a8fdc95-1a63-4ddb-b70c-067c1b89d8ae",
   "metadata": {},
   "outputs": [
    {
     "name": "stdout",
     "output_type": "stream",
     "text": [
      "<class 'pandas.core.frame.DataFrame'>\n",
      "RangeIndex: 12229 entries, 0 to 12228\n",
      "Data columns (total 14 columns):\n",
      " #   Column    Non-Null Count  Dtype  \n",
      "---  ------    --------------  -----  \n",
      " 0   Page No   12229 non-null  int64  \n",
      " 1   Pos       10177 non-null  float64\n",
      " 2   Name      12229 non-null  object \n",
      " 3   Time      12229 non-null  object \n",
      " 4   Medal     10455 non-null  object \n",
      " 5   Club      11034 non-null  object \n",
      " 6   Gender    12229 non-null  object \n",
      " 7   Category  12229 non-null  object \n",
      " 8   Start     10709 non-null  object \n",
      " 9   5km       10804 non-null  object \n",
      " 10  14km      10773 non-null  object \n",
      " 11  28km      10760 non-null  object \n",
      " 12  42.2km    10473 non-null  object \n",
      " 13  50km      10488 non-null  object \n",
      "dtypes: float64(1), int64(1), object(12)\n",
      "memory usage: 1.3+ MB\n"
     ]
    }
   ],
   "source": [
    "df.info()"
   ]
  },
  {
   "cell_type": "markdown",
   "id": "078e298f-7b70-43cd-b6e1-292f6cf58168",
   "metadata": {},
   "source": [
    "**1. Pace Distribution and Trends:**\n",
    "   - **Subheading: \"Overall Pace Distribution\"**\n",
    "     - Visualization: Histogram or box plot showing the distribution of finish times across all participants."
   ]
  },
  {
   "cell_type": "code",
   "execution_count": 232,
   "id": "7adb4886-292b-4cb5-b305-35b0e380150a",
   "metadata": {},
   "outputs": [
    {
     "data": {
      "text/plain": [
       "Time\n",
       "Not started            1377\n",
       "DNF                     384\n",
       "Unofficial Finisher     291\n",
       "06:51:39                 10\n",
       "06:26:23                  8\n",
       "                       ... \n",
       "05:06:18                  1\n",
       "06:04:07                  1\n",
       "06:04:08                  1\n",
       "06:04:10                  1\n",
       "03:09:30                  1\n",
       "Name: count, Length: 6058, dtype: int64"
      ]
     },
     "execution_count": 232,
     "metadata": {},
     "output_type": "execute_result"
    }
   ],
   "source": [
    "df['Time'].value_counts()"
   ]
  },
  {
   "cell_type": "code",
   "execution_count": 233,
   "id": "a0567e6b-286a-49bf-8ff0-325fc15ce6c4",
   "metadata": {},
   "outputs": [],
   "source": [
    "# Remove \"Not started\", \"DNF\", and \"Unofficial Finisher\" entries from the time column\n",
    "df = df[~df['Time'].isin(['Not started', 'DNF', 'Unofficial Finisher'])]"
   ]
  },
  {
   "cell_type": "code",
   "execution_count": 234,
   "id": "8b505b10-901a-4d26-85c6-1116a0119e89",
   "metadata": {},
   "outputs": [
    {
     "data": {
      "text/plain": [
       "Time\n",
       "06:51:39    10\n",
       "06:26:23     8\n",
       "05:59:08     7\n",
       "05:35:39     7\n",
       "06:28:41     7\n",
       "            ..\n",
       "05:29:57     1\n",
       "05:29:56     1\n",
       "05:29:54     1\n",
       "05:29:53     1\n",
       "07:12:27     1\n",
       "Name: count, Length: 6055, dtype: int64"
      ]
     },
     "execution_count": 234,
     "metadata": {},
     "output_type": "execute_result"
    }
   ],
   "source": [
    "df['Time'].value_counts()"
   ]
  },
  {
   "cell_type": "code",
   "execution_count": 235,
   "id": "8f1d3b43-a2d4-4b2d-9519-cd66e2674782",
   "metadata": {},
   "outputs": [],
   "source": [
    "df['Time'] = pd.to_datetime(df['Time'], format='%H:%M:%S')"
   ]
  },
  {
   "cell_type": "code",
   "execution_count": 236,
   "id": "997b3be0-c383-4211-b436-0501143c6948",
   "metadata": {},
   "outputs": [],
   "source": [
    "average_time = df['Time'].median()"
   ]
  },
  {
   "cell_type": "code",
   "execution_count": 237,
   "id": "32386162-d847-48d7-8f5d-b41bdec4c126",
   "metadata": {},
   "outputs": [
    {
     "data": {
      "image/png": "[encoded data removed]",
      "text/plain": [
       "<Figure size 1000x600 with 1 Axes>"
      ]
     },
     "metadata": {},
     "output_type": "display_data"
    }
   ],
   "source": [
    "from matplotlib.dates import DateFormatter\n",
    "\n",
    "# Create figure and axis objects\n",
    "fig, ax = plt.subplots(figsize=(10, 6))\n",
    "\n",
    "# Plot the finishing times on a histogram\n",
    "ax.hist(df['Time'], bins=30, color='#1f2649', edgecolor='white', zorder=1)\n",
    "ax.set_xlabel('Time (HH:MM)', labelpad=20)\n",
    "ax.set_ylabel('Number of Athletes', labelpad=20)\n",
    "ax.set_title('What is the distribution of finishing times among participants?', pad=20, fontsize=18)\n",
    "\n",
    "\n",
    "# # Plot average time line\n",
    "average_time_line = ax.axvline(average_time, color='#e87f33', linestyle='dashed', linewidth=1.5, label=f'Average Time: {average_time.strftime(\"%H:%M:%S\")}', ymax=0.95)\n",
    "\n",
    "# Create a 90-degree dashed line from the average time line\n",
    "ax.plot([average_time, average_time], [0, 0.95], color='darkorange', linestyle='dashed', linewidth=1)\n",
    "\n",
    "# Annotate the legend with a box\n",
    "legend_box = ax.annotate(f'Average Finishing Time:\\n\\n{average_time.strftime(\"%H:%M:%S\")}', color='white', xy=(average_time, 500), xycoords='data', xytext=(-200, 0), textcoords='offset points',\n",
    "                         bbox=dict(boxstyle='round,pad=0.75', fc='#e87f33', ec='white', alpha=1),\n",
    "                         arrowprops=dict(arrowstyle='->', connectionstyle='arc3, rad=0', color='darkorange'),\n",
    "                         ha='center', va='center', weight='600')\n",
    "\n",
    "# Customize spines\n",
    "ax.spines['top'].set_visible(False)\n",
    "ax.spines['left'].set_color('grey')\n",
    "ax.spines['bottom'].set_color('grey')\n",
    "ax.spines['right'].set_visible(False)\n",
    "\n",
    "# Format x-axis labels to display only time\n",
    "date_format = DateFormatter('%H:%M')\n",
    "ax.xaxis.set_major_formatter(date_format)\n"
   ]
  },
  {
   "cell_type": "markdown",
   "id": "09b864ae-2a1c-4101-8046-a28fd8c67f48",
   "metadata": {},
   "source": [
    "**2. Pace Comparison Across Categories:**\n",
    "   - **Subheading: \"Pace Comparison by Gender and Age Group\"**\n",
    "     - Visualization: Grouped bar chart comparing average pace across different gender and age groups.\n",
    "   - **Subheading: \"Club-wise Pace Comparison\"**\n",
    "     - Visualization: Grouped bar chart comparing pace across different clubs."
   ]
  },
  {
   "cell_type": "code",
   "execution_count": 238,
   "id": "e746c59b-e640-4582-b4bf-b9e23337d44d",
   "metadata": {},
   "outputs": [
    {
     "name": "stdout",
     "output_type": "stream",
     "text": [
      "<class 'pandas.core.frame.DataFrame'>\n",
      "Index: 10177 entries, 0 to 10176\n",
      "Data columns (total 14 columns):\n",
      " #   Column    Non-Null Count  Dtype         \n",
      "---  ------    --------------  -----         \n",
      " 0   Page No   10177 non-null  int64         \n",
      " 1   Pos       10177 non-null  float64       \n",
      " 2   Name      10177 non-null  object        \n",
      " 3   Time      10177 non-null  datetime64[ns]\n",
      " 4   Medal     10164 non-null  object        \n",
      " 5   Club      9225 non-null   object        \n",
      " 6   Gender    10177 non-null  object        \n",
      " 7   Category  10177 non-null  object        \n",
      " 8   Start     10046 non-null  object        \n",
      " 9   5km       10139 non-null  object        \n",
      " 10  14km      10126 non-null  object        \n",
      " 11  28km      10160 non-null  object        \n",
      " 12  42.2km    10158 non-null  object        \n",
      " 13  50km      10158 non-null  object        \n",
      "dtypes: datetime64[ns](1), float64(1), int64(1), object(11)\n",
      "memory usage: 1.2+ MB\n"
     ]
    }
   ],
   "source": [
    "df.info()"
   ]
  },
  {
   "cell_type": "code",
   "execution_count": 265,
   "id": "21b36e0c-022e-4440-a03f-5fd0f4e86d16",
   "metadata": {},
   "outputs": [],
   "source": [
    "import datetime\n",
    "\n",
    "# Given seconds value\n",
    "seconds = (df['Time'] - datetime.datetime(1900, 1, 1)).dt.total_seconds()\n",
    "\n",
    "# Total distance covered in kilometers\n",
    "distance_km = 56  # Assuming standard marathon distance\n",
    "\n",
    "# Convert seconds to pace in minutes per kilometer\n",
    "df['Pace_mins_per_km'] = seconds / 60 / distance_km"
   ]
  },
  {
   "cell_type": "code",
   "execution_count": 280,
   "id": "91c2aaeb-7cd0-405e-96ed-e2d82d8f379d",
   "metadata": {},
   "outputs": [
    {
     "data": {
      "text/plain": [
       "(-0.65, 5.1)"
      ]
     },
     "execution_count": 280,
     "metadata": {},
     "output_type": "execute_result"
    },
    {
     "data": {
      "image/png": "[encoded data removed]",
      "text/plain": [
       "<Figure size 1200x800 with 1 Axes>"
      ]
     },
     "metadata": {},
     "output_type": "display_data"
    }
   ],
   "source": [
    "import matplotlib.pyplot as plt\n",
    "\n",
    "# Define colors for male and female bars\n",
    "colors = {'Male': plot_colors['2O-Bl'], 'Female': plot_colors['2O-Or']}\n",
    "\n",
    "# Pivot the DataFrame, ensuring all age group categories are included\n",
    "pivot_df = df.pivot_table(index='Category', columns='Gender', values='Pace_mins_per_km', fill_value=0)\n",
    "\n",
    "age_group_order = ['Senior', '40 to 49', '50 to 59', '60 to 69', '70+']\n",
    "\n",
    "# Create figure and axis objects\n",
    "fig, ax = plt.subplots(figsize=(12, 8))\n",
    "\n",
    "\n",
    "# Plot the grouped bar chart\n",
    "for i, col in enumerate(pivot_df.columns):\n",
    "    bars = pivot_df[col].loc[age_group_order].plot(kind='bar', ax=ax, color=colors[col], position=i, width=0.4)\n",
    "    for bar in bars.patches:\n",
    "        # Get the pace value from the height of the bar\n",
    "        pace_value = bar.get_height()\n",
    "        \n",
    "        # Convert pace to minutes and seconds\n",
    "        pace_minutes = int(pace_value)  # Whole minutes\n",
    "        pace_seconds = int((pace_value - pace_minutes) * 60)  # Remaining seconds\n",
    "\n",
    "        # Format the pace as a string\n",
    "        pace_string = f\"{pace_minutes}:{pace_seconds:02d}\"\n",
    "\n",
    "        # Place the pace string at the top of each bar\n",
    "        ax.text(bar.get_x() + bar.get_width() / 2, bar.get_height(), pace_string, ha='center', va='bottom')\n",
    "\n",
    "# Customize plot\n",
    "ax.set_title(\"How do participants' paces differ by age and gender?\", pad=20, fontsize=18)\n",
    "ax.set_xlabel('Age Group', labelpad=20)\n",
    "ax.set_ylabel('Average Pace (min/km)', labelpad=20)\n",
    "ax.set_xticklabels(age_group_order, rotation=0)\n",
    "ax.legend(title='Gender', loc='center right')\n",
    "\n",
    "# Remove top and right spines, leave the visible ones gray\n",
    "ax.spines['top'].set_visible(False)\n",
    "ax.spines['right'].set_visible(False)\n",
    "ax.spines['left'].set_color('lightgray')\n",
    "ax.spines['bottom'].set_color('lightgray')\n",
    "\n",
    "ax.set_xlim(-0.65, 5.1)"
   ]
  },
  {
   "cell_type": "markdown",
   "id": "37cf96b5-6429-4bbf-9591-995ae581a4ec",
   "metadata": {},
   "source": [
    "**3. Pace Analysis and Consistency:**\n",
    "   - **Subheading: \"Pace Consistency Over Time\"**\n",
    "     - Visualization: Line chart showing individual or grouped participant pace at each interval checkpoint.\n",
    "   - **Subheading: \"Pace Deviation Analysis\"**\n",
    "     - Visualization: Box plot or violin plot showing the distribution of pace deviation from the average pace."
   ]
  },
  {
   "cell_type": "code",
   "execution_count": 281,
   "id": "6163ce2c-625f-4bc2-abe0-409c2713c580",
   "metadata": {},
   "outputs": [
    {
     "data": {
      "text/plain": [
       "Index(['Page No', 'Pos', 'Name', 'Time', 'Medal', 'Club', 'Gender', 'Category',\n",
       "       'Start', '5km', '14km', '28km', '42.2km', '50km', 'Pace_mins_per_km'],\n",
       "      dtype='object')"
      ]
     },
     "execution_count": 281,
     "metadata": {},
     "output_type": "execute_result"
    }
   ],
   "source": [
    "df.columns"
   ]
  },
  {
   "cell_type": "code",
   "execution_count": 283,
   "id": "36584639-cb68-4778-bd8f-c07d299516b1",
   "metadata": {},
   "outputs": [
    {
     "data": {
      "text/html": [
       "<div>\n",
       "<style scoped>\n",
       "    .dataframe tbody tr th:only-of-type {\n",
       "        vertical-align: middle;\n",
       "    }\n",
       "\n",
       "    .dataframe tbody tr th {\n",
       "        vertical-align: top;\n",
       "    }\n",
       "\n",
       "    .dataframe thead th {\n",
       "        text-align: right;\n",
       "    }\n",
       "</style>\n",
       "<table border=\"1\" class=\"dataframe\">\n",
       "  <thead>\n",
       "    <tr style=\"text-align: right;\">\n",
       "      <th></th>\n",
       "      <th>5km</th>\n",
       "      <th>14km</th>\n",
       "      <th>28km</th>\n",
       "      <th>42.2km</th>\n",
       "      <th>50km</th>\n",
       "      <th>Time</th>\n",
       "    </tr>\n",
       "  </thead>\n",
       "  <tbody>\n",
       "    <tr>\n",
       "      <th>0</th>\n",
       "      <td>00:17:38</td>\n",
       "      <td>00:48:12</td>\n",
       "      <td>01:36:39</td>\n",
       "      <td>02:25:21</td>\n",
       "      <td>02:52:00</td>\n",
       "      <td>1900-01-01 03:09:30</td>\n",
       "    </tr>\n",
       "    <tr>\n",
       "      <th>1</th>\n",
       "      <td>00:17:39</td>\n",
       "      <td>00:48:14</td>\n",
       "      <td>01:36:41</td>\n",
       "      <td>02:25:21</td>\n",
       "      <td>02:51:48</td>\n",
       "      <td>1900-01-01 03:09:58</td>\n",
       "    </tr>\n",
       "    <tr>\n",
       "      <th>2</th>\n",
       "      <td>00:17:40</td>\n",
       "      <td>00:48:16</td>\n",
       "      <td>01:36:47</td>\n",
       "      <td>02:25:22</td>\n",
       "      <td>02:52:09</td>\n",
       "      <td>1900-01-01 03:11:13</td>\n",
       "    </tr>\n",
       "    <tr>\n",
       "      <th>3</th>\n",
       "      <td>00:17:53</td>\n",
       "      <td>00:48:13</td>\n",
       "      <td>01:36:40</td>\n",
       "      <td>02:25:23</td>\n",
       "      <td>02:52:04</td>\n",
       "      <td>1900-01-01 03:11:21</td>\n",
       "    </tr>\n",
       "    <tr>\n",
       "      <th>4</th>\n",
       "      <td>00:17:41</td>\n",
       "      <td>00:48:16</td>\n",
       "      <td>01:36:44</td>\n",
       "      <td>02:25:19</td>\n",
       "      <td>02:52:24</td>\n",
       "      <td>1900-01-01 03:11:35</td>\n",
       "    </tr>\n",
       "    <tr>\n",
       "      <th>...</th>\n",
       "      <td>...</td>\n",
       "      <td>...</td>\n",
       "      <td>...</td>\n",
       "      <td>...</td>\n",
       "      <td>...</td>\n",
       "      <td>...</td>\n",
       "    </tr>\n",
       "    <tr>\n",
       "      <th>10172</th>\n",
       "      <td>00:31:32</td>\n",
       "      <td>01:26:40</td>\n",
       "      <td>02:56:16</td>\n",
       "      <td>04:52:50</td>\n",
       "      <td>06:11:48</td>\n",
       "      <td>1900-01-01 06:59:57</td>\n",
       "    </tr>\n",
       "    <tr>\n",
       "      <th>10173</th>\n",
       "      <td>00:31:00</td>\n",
       "      <td>01:29:51</td>\n",
       "      <td>03:09:27</td>\n",
       "      <td>05:08:54</td>\n",
       "      <td>06:18:59</td>\n",
       "      <td>1900-01-01 06:59:58</td>\n",
       "    </tr>\n",
       "    <tr>\n",
       "      <th>10174</th>\n",
       "      <td>00:31:41</td>\n",
       "      <td>01:32:50</td>\n",
       "      <td>03:08:10</td>\n",
       "      <td>04:56:27</td>\n",
       "      <td>06:15:38</td>\n",
       "      <td>1900-01-01 06:59:58</td>\n",
       "    </tr>\n",
       "    <tr>\n",
       "      <th>10175</th>\n",
       "      <td>00:29:28</td>\n",
       "      <td>01:27:06</td>\n",
       "      <td>03:07:52</td>\n",
       "      <td>05:12:59</td>\n",
       "      <td>06:25:59</td>\n",
       "      <td>1900-01-01 07:10:50</td>\n",
       "    </tr>\n",
       "    <tr>\n",
       "      <th>10176</th>\n",
       "      <td>NaN</td>\n",
       "      <td>NaN</td>\n",
       "      <td>NaN</td>\n",
       "      <td>NaN</td>\n",
       "      <td>NaN</td>\n",
       "      <td>1900-01-01 07:12:27</td>\n",
       "    </tr>\n",
       "  </tbody>\n",
       "</table>\n",
       "<p>10177 rows × 6 columns</p>\n",
       "</div>"
      ],
      "text/plain": [
       "            5km      14km      28km    42.2km      50km                Time\n",
       "0      00:17:38  00:48:12  01:36:39  02:25:21  02:52:00 1900-01-01 03:09:30\n",
       "1      00:17:39  00:48:14  01:36:41  02:25:21  02:51:48 1900-01-01 03:09:58\n",
       "2      00:17:40  00:48:16  01:36:47  02:25:22  02:52:09 1900-01-01 03:11:13\n",
       "3      00:17:53  00:48:13  01:36:40  02:25:23  02:52:04 1900-01-01 03:11:21\n",
       "4      00:17:41  00:48:16  01:36:44  02:25:19  02:52:24 1900-01-01 03:11:35\n",
       "...         ...       ...       ...       ...       ...                 ...\n",
       "10172  00:31:32  01:26:40  02:56:16  04:52:50  06:11:48 1900-01-01 06:59:57\n",
       "10173  00:31:00  01:29:51  03:09:27  05:08:54  06:18:59 1900-01-01 06:59:58\n",
       "10174  00:31:41  01:32:50  03:08:10  04:56:27  06:15:38 1900-01-01 06:59:58\n",
       "10175  00:29:28  01:27:06  03:07:52  05:12:59  06:25:59 1900-01-01 07:10:50\n",
       "10176       NaN       NaN       NaN       NaN       NaN 1900-01-01 07:12:27\n",
       "\n",
       "[10177 rows x 6 columns]"
      ]
     },
     "execution_count": 283,
     "metadata": {},
     "output_type": "execute_result"
    }
   ],
   "source": [
    "df[['5km', '14km', '28km', '42.2km', '50km', 'Time']]"
   ]
  },
  {
   "cell_type": "code",
   "execution_count": null,
   "id": "8b7323b9-f677-46c2-b393-1745658b84d4",
   "metadata": {},
   "outputs": [],
   "source": [
    "import datetime\n",
    "\n",
    "# Given seconds value\n",
    "seconds = (df['Time'] - datetime.datetime(1900, 1, 1)).dt.total_seconds()\n",
    "\n",
    "# Total distance covered in kilometers\n",
    "distance_km = 56  # Assuming standard marathon distance\n",
    "\n",
    "# Convert seconds to pace in minutes per kilometer\n",
    "df['Pace_mins_per_km'] = seconds / 60 / distance_km"
   ]
  }
 ],
 "metadata": {
  "kernelspec": {
   "display_name": "Python 3 (ipykernel)",
   "language": "python",
   "name": "python3"
  },
  "language_info": {
   "codemirror_mode": {
    "name": "ipython",
    "version": 3
   },
   "file_extension": ".py",
   "mimetype": "text/x-python",
   "name": "python",
   "nbconvert_exporter": "python",
   "pygments_lexer": "ipython3",
   "version": "3.12.2"
  }
 },
 "nbformat": 4,
 "nbformat_minor": 5
}
